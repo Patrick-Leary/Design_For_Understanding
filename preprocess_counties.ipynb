{
 "cells": [
  {
   "cell_type": "code",
   "execution_count": 2,
   "metadata": {},
   "outputs": [
    {
     "name": "stdout",
     "output_type": "stream",
     "text": [
      "Preprocessing complete. Cleaned data saved to data/US_Lightning_Forest_Fires_Cleaned.csv.\n"
     ]
    }
   ],
   "source": [
    "import csv\n",
    "\n",
    "input_file = 'data/US_Lightning_Forest_Fires.csv'\n",
    "output_file = 'data/US_Lightning_Forest_Fires_Cleaned.csv'\n",
    "\n",
    "# Read the data\n",
    "with open(input_file, 'r', newline='', encoding='utf-8') as csvfile_in:\n",
    "    reader = csv.DictReader(csvfile_in)\n",
    "    data = list(reader)\n",
    "\n",
    "# Identify years with at least one entry having FIPS_CODE\n",
    "years_with_county_data = set()\n",
    "\n",
    "for row in data:\n",
    "    fips_code = row.get('FIPS_CODE', '').strip()\n",
    "    if fips_code:\n",
    "        year = row['FIRE_YEAR']\n",
    "        years_with_county_data.add(year)\n",
    "\n",
    "# Filter out entries from years without county data\n",
    "filtered_data = [row for row in data if row['FIRE_YEAR'] in years_with_county_data]\n",
    "\n",
    "# Write the cleaned data to a new CSV file\n",
    "with open(output_file, 'w', newline='', encoding='utf-8') as csvfile_out:\n",
    "    fieldnames = reader.fieldnames\n",
    "    writer = csv.DictWriter(csvfile_out, fieldnames=fieldnames)\n",
    "    writer.writeheader()\n",
    "    writer.writerows(filtered_data)\n",
    "\n",
    "print(f\"Preprocessing complete. Cleaned data saved to {output_file}.\")"
   ]
  },
  {
   "cell_type": "code",
   "execution_count": null,
   "metadata": {},
   "outputs": [],
   "source": []
  }
 ],
 "metadata": {
  "kernelspec": {
   "display_name": "base",
   "language": "python",
   "name": "python3"
  },
  "language_info": {
   "codemirror_mode": {
    "name": "ipython",
    "version": 3
   },
   "file_extension": ".py",
   "mimetype": "text/x-python",
   "name": "python",
   "nbconvert_exporter": "python",
   "pygments_lexer": "ipython3",
   "version": "3.9.17"
  }
 },
 "nbformat": 4,
 "nbformat_minor": 2
}
